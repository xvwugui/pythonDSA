{
 "cells": [
  {
   "cell_type": "code",
   "execution_count": 1,
   "id": "bc923d2a-a460-4401-b81b-f4d7db6ec21f",
   "metadata": {},
   "outputs": [],
   "source": [
    "# 双链表"
   ]
  },
  {
   "cell_type": "code",
   "execution_count": 6,
   "id": "dc09c942-0b85-4c67-8aad-5abab6f6a486",
   "metadata": {},
   "outputs": [],
   "source": [
    "class DoublyListNode:\n",
    "    def __init__(self,x):\n",
    "        self.val = x\n",
    "        self.next = None\n",
    "        self.prev = None\n",
    "\n",
    "def createDoublyLinkedList(arr: 'List[int]') -> DoublyListNode:\n",
    "    if not arr:\n",
    "        return None\n",
    "    head = DoublyListNode(arr[0])\n",
    "    cur = head\n",
    "    for val in arr[1:]:\n",
    "        newNode = DoublyListNode(val)\n",
    "        cur.next = newNode\n",
    "        newNode.prev = cur\n",
    "        cur = cur.next\n",
    "\n",
    "    return head"
   ]
  },
  {
   "cell_type": "code",
   "execution_count": 7,
   "id": "d8153b75-8ce1-448c-b8be-4250c2810bc2",
   "metadata": {},
   "outputs": [
    {
     "name": "stdout",
     "output_type": "stream",
     "text": [
      "1\n",
      "2\n",
      "3\n",
      "4\n",
      "5\n",
      "5\n",
      "4\n",
      "3\n",
      "2\n",
      "1\n"
     ]
    }
   ],
   "source": [
    "#双链表的遍历\n",
    "head = createDoublyLinkedList([1,2,3,4,5])\n",
    "tail = None\n",
    "\n",
    "p = head\n",
    "while p:\n",
    "    print(p.val)\n",
    "    tail = p\n",
    "    p = p.next\n",
    "\n",
    "p = tail\n",
    "while p:\n",
    "    print(p.val)\n",
    "    p = p.prev"
   ]
  },
  {
   "cell_type": "code",
   "execution_count": 12,
   "id": "9b4c056b-abee-4710-82f1-f04d3a6bc372",
   "metadata": {},
   "outputs": [],
   "source": [
    "#头部插入新元素\n",
    "head = createDoublyLinkedList([1, 2, 3, 4, 5])\n",
    "\n",
    "newHead = DoublyListNode(0)\n",
    "newHead.next = head\n",
    "head.prev = newHead\n",
    "\n",
    "head = newHead"
   ]
  },
  {
   "cell_type": "code",
   "execution_count": 13,
   "id": "caf4c44c-ab9f-42e0-9b9d-1ac9c7de0b70",
   "metadata": {},
   "outputs": [],
   "source": [
    "#尾部插入新元素\n",
    "head = createDoublyLinkedList([1,2,3,4,5])\n",
    "\n",
    "tail = head\n",
    "while tail.next is not None:\n",
    "    tail = tail.next\n",
    "\n",
    "newTail = DoublyListNode(6)\n",
    "tail.next = newTail\n",
    "newTail.prev = tail\n",
    "\n",
    "tail = newTail"
   ]
  },
  {
   "cell_type": "code",
   "execution_count": 15,
   "id": "d2d0e589-e07c-4428-9fd9-cf6a13d61693",
   "metadata": {},
   "outputs": [],
   "source": [
    "#在双链表中间插入新元素\n",
    "head = createDoublyLinkedList([1,2,3,4,6])\n",
    "p = head\n",
    "for i in range(3):\n",
    "    p = p.next\n",
    "\n",
    "newNode = DoublyListNode(5)\n",
    "newNode.prev = p\n",
    "newNode.next = p.next\n",
    "\n",
    "p.next.prev = newNode\n",
    "p.next = newNode"
   ]
  },
  {
   "cell_type": "code",
   "execution_count": 16,
   "id": "a679d28a-e995-48f1-81b6-d59e093d8d42",
   "metadata": {},
   "outputs": [],
   "source": [
    "#删除比较简单，就是找前驱后继"
   ]
  },
  {
   "cell_type": "code",
   "execution_count": null,
   "id": "3a67ee1a-1122-449c-a868-25ef0a310fa8",
   "metadata": {},
   "outputs": [],
   "source": []
  }
 ],
 "metadata": {
  "kernelspec": {
   "display_name": "Python 3 (ipykernel)",
   "language": "python",
   "name": "python3"
  },
  "language_info": {
   "codemirror_mode": {
    "name": "ipython",
    "version": 3
   },
   "file_extension": ".py",
   "mimetype": "text/x-python",
   "name": "python",
   "nbconvert_exporter": "python",
   "pygments_lexer": "ipython3",
   "version": "3.11.13"
  }
 },
 "nbformat": 4,
 "nbformat_minor": 5
}
