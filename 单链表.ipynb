{
 "cells": [
  {
   "cell_type": "markdown",
   "id": "562846f4-e780-4eec-ba13-5f0344484179",
   "metadata": {},
   "source": [
    "# 链表链式存储基本原理"
   ]
  },
  {
   "cell_type": "code",
   "execution_count": 3,
   "id": "51425e5c-b8b2-454c-82fc-414cd5909be8",
   "metadata": {},
   "outputs": [],
   "source": [
    "class ListNode:\n",
    "    def __init__(self,x):\n",
    "        self.val = x\n",
    "        self.next = None\n",
    "\n",
    "def createLinkedList(arr: 'List[int]') -> 'ListNode':\n",
    "        if arr is None or len(arr) == 0:\n",
    "            return None\n",
    "\n",
    "        head = ListNode(arr[0])\n",
    "        cur = head\n",
    "        for i in range(1,len(arr)):\n",
    "            cur.next = ListNode(arr[i])\n",
    "            cur = cur.next\n",
    "\n",
    "        return head"
   ]
  },
  {
   "cell_type": "code",
   "execution_count": 4,
   "id": "e88a5c21-1555-43bd-afa3-ae8b1f644aaf",
   "metadata": {},
   "outputs": [
    {
     "name": "stdout",
     "output_type": "stream",
     "text": [
      "1\n",
      "2\n",
      "3\n",
      "4\n",
      "5\n"
     ]
    }
   ],
   "source": [
    "head = createLinkedList([1,2,3,4,5])\n",
    "\n",
    "#遍历单链表\n",
    "p = head\n",
    "while p is not None:\n",
    "    print(p.val)\n",
    "    p=p.next"
   ]
  },
  {
   "cell_type": "code",
   "execution_count": 5,
   "id": "0b96aa9d-e1f9-4d9e-b5ec-36e3262982c6",
   "metadata": {},
   "outputs": [],
   "source": [
    "#在链表头部插入新元素\n",
    "head = createLinkedList([1,2,3,4,5])\n",
    "\n",
    "newNode = ListNode(0)\n",
    "newNode.next = head\n",
    "head = newNode"
   ]
  },
  {
   "cell_type": "code",
   "execution_count": 6,
   "id": "306dbd9c-2316-4d88-86a5-e34e4273c3e7",
   "metadata": {},
   "outputs": [],
   "source": [
    "#在链表尾部插入新元素\n",
    "head = createLinkedList([1,2,3,4,5,6])\n",
    "\n",
    "p = head\n",
    "while p.next is not None:\n",
    "    p = p.next\n",
    "\n",
    "p.next = ListNode(7)"
   ]
  },
  {
   "cell_type": "code",
   "execution_count": 7,
   "id": "b11c8b67-50d5-4ce3-9418-6584166a59d7",
   "metadata": {},
   "outputs": [],
   "source": [
    "#在单链表中间插入一个节点\n",
    "#在3和5之间插入4\n",
    "head = createLinkedList([1,2,3,5,6])\n",
    "\n",
    "p = head\n",
    "while p.val != 3:\n",
    "    p = p.next\n",
    "\n",
    "newNode = ListNode(4)\n",
    "newNode.next = p.next\n",
    "p.next = newNode"
   ]
  },
  {
   "cell_type": "code",
   "execution_count": 10,
   "id": "5a5b168c-9363-45dc-8215-15f28444c489",
   "metadata": {},
   "outputs": [],
   "source": [
    "#在链表中删除一个元素\n",
    "head = createLinkedList([1,2,3,4,5,6])\n",
    "\n",
    "#删除4\n",
    "p = head\n",
    "for i in range(2):\n",
    "    p = p.next\n",
    "\n",
    "p.next = p.next.next"
   ]
  },
  {
   "cell_type": "code",
   "execution_count": 11,
   "id": "04168a00-03ef-4352-bf16-5da71968a42b",
   "metadata": {},
   "outputs": [],
   "source": [
    "#删除尾部元素\n",
    "head = createLinkedList([1,2,3,4,5])\n",
    "p = head\n",
    "while p.next.next is not None:\n",
    "    p = p.next\n",
    "\n",
    "p.next = None"
   ]
  },
  {
   "cell_type": "code",
   "execution_count": 12,
   "id": "0a4b7f64-e4ca-4c6b-9232-d55e55c91932",
   "metadata": {},
   "outputs": [],
   "source": [
    "#删除链表头部元素\n",
    "head = createLinkedList([1,2,3,4,5])\n",
    "head = head.next"
   ]
  },
  {
   "cell_type": "code",
   "execution_count": null,
   "id": "c8cfefb1-0e60-48da-b18c-d932ce649801",
   "metadata": {},
   "outputs": [],
   "source": []
  }
 ],
 "metadata": {
  "kernelspec": {
   "display_name": "Python 3 (ipykernel)",
   "language": "python",
   "name": "python3"
  },
  "language_info": {
   "codemirror_mode": {
    "name": "ipython",
    "version": 3
   },
   "file_extension": ".py",
   "mimetype": "text/x-python",
   "name": "python",
   "nbconvert_exporter": "python",
   "pygments_lexer": "ipython3",
   "version": "3.11.13"
  }
 },
 "nbformat": 4,
 "nbformat_minor": 5
}
