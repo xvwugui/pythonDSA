{
 "cells": [
  {
   "cell_type": "code",
   "execution_count": 1,
   "id": "bce59dbb-0de9-4646-9133-0dacf38c907e",
   "metadata": {},
   "outputs": [],
   "source": [
    "# 用数组实现栈"
   ]
  },
  {
   "cell_type": "code",
   "execution_count": 2,
   "id": "b8194bb5-e7b2-498a-b862-c02aa871aec5",
   "metadata": {},
   "outputs": [],
   "source": [
    "class Stack:\n",
    "    def __init__(self):\n",
    "        self.list = []\n",
    "\n",
    "    def push(self,e):\n",
    "        self.list.append(e)\n",
    "\n",
    "    def pop(self):\n",
    "        return self.list.pop()\n",
    "\n",
    "    def peek(self):\n",
    "        return self.list[-1]\n",
    "\n",
    "    def size(self):\n",
    "        return len(self.list)"
   ]
  },
  {
   "cell_type": "code",
   "execution_count": 4,
   "id": "d4cdeb74-699b-4d2a-ab13-83a6bac7245e",
   "metadata": {},
   "outputs": [],
   "source": [
    "#用数组实现队列性能太差，了解即可，一般都用collections里面的deque\n",
    "class Queue:\n",
    "    def __init__(self):\n",
    "        self.list = []\n",
    "\n",
    "    def push(self,t):\n",
    "        self.list.append(t)\n",
    "\n",
    "    def pop(self):\n",
    "        return self.list.pop(0)\n",
    "\n",
    "    def size(self):\n",
    "        return len(self.list)\n"
   ]
  },
  {
   "cell_type": "code",
   "execution_count": null,
   "id": "a2316d25-eaf3-4cc6-bc54-f6829b4f7020",
   "metadata": {},
   "outputs": [],
   "source": []
  }
 ],
 "metadata": {
  "kernelspec": {
   "display_name": "Python 3 (ipykernel)",
   "language": "python",
   "name": "python3"
  },
  "language_info": {
   "codemirror_mode": {
    "name": "ipython",
    "version": 3
   },
   "file_extension": ".py",
   "mimetype": "text/x-python",
   "name": "python",
   "nbconvert_exporter": "python",
   "pygments_lexer": "ipython3",
   "version": "3.11.13"
  }
 },
 "nbformat": 4,
 "nbformat_minor": 5
}
